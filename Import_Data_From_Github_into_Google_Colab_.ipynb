{
  "nbformat": 4,
  "nbformat_minor": 0,
  "metadata": {
    "colab": {
      "name": "Import_Data_From_Github_into_Google Colab .ipynb",
      "provenance": [],
      "authorship_tag": "ABX9TyM2htUAGuGn+0ARKVhd4/eF",
      "include_colab_link": true
    },
    "kernelspec": {
      "name": "python3",
      "display_name": "Python 3"
    },
    "language_info": {
      "name": "python"
    }
  },
  "cells": [
    {
      "cell_type": "markdown",
      "metadata": {
        "id": "view-in-github",
        "colab_type": "text"
      },
      "source": [
        "<a href=\"https://colab.research.google.com/github/sikandarmir/Data_Upload_into_Colab/blob/main/Import_Data_From_Github_into_Google_Colab_.ipynb\" target=\"_parent\"><img src=\"https://colab.research.google.com/assets/colab-badge.svg\" alt=\"Open In Colab\"/></a>"
      ]
    },
    {
      "cell_type": "markdown",
      "metadata": {
        "id": "yLrIsD9Sly7B"
      },
      "source": [
        "## Import Data From Github into Google Colab"
      ]
    },
    {
      "cell_type": "markdown",
      "metadata": {
        "id": "0lEfiYpUm1jD"
      },
      "source": [
        "first copy the link of the GitHub repository and paste here"
      ]
    },
    {
      "cell_type": "code",
      "metadata": {
        "id": "XjpBwDvwnazO"
      },
      "source": [
        "import zipfile\n",
        "import os"
      ],
      "execution_count": 6,
      "outputs": []
    },
    {
      "cell_type": "code",
      "metadata": {
        "colab": {
          "base_uri": "https://localhost:8080/"
        },
        "id": "haxiQlG8mstf",
        "outputId": "71116e5c-daf5-49e2-a9d5-067971868fe7"
      },
      "source": [
        "#wget <link> downloads and saves web content into the current working directory\n",
        "#use — -no-check-certificate to ignore SSL certificate error which might occur on websites with an expired SSL certificate\n",
        "!wget --no-check-certificate \\\n",
        "    \"https://github.com/laxmimerit/dog-cat-full-dataset/archive/refs/heads/master.zip\" \\\n",
        "    -O \"/tmp/cats-and-dogs.zip\"\n",
        "\n",
        "\n",
        "zip_ref = zipfile.ZipFile('/tmp/cats-and-dogs.zip', 'r') #Opens the zip file in read mode\n",
        "zip_ref.extractall('/tmp') #Extracts the files into the /tmp folder\n",
        "zip_ref.close()"
      ],
      "execution_count": 8,
      "outputs": [
        {
          "output_type": "stream",
          "name": "stdout",
          "text": [
            "--2021-09-07 10:10:42--  https://github.com/laxmimerit/dog-cat-full-dataset/archive/refs/heads/master.zip\n",
            "Resolving github.com (github.com)... 13.114.40.48\n",
            "Connecting to github.com (github.com)|13.114.40.48|:443... connected.\n",
            "HTTP request sent, awaiting response... 302 Found\n",
            "Location: https://codeload.github.com/laxmimerit/dog-cat-full-dataset/zip/refs/heads/master [following]\n",
            "--2021-09-07 10:10:42--  https://codeload.github.com/laxmimerit/dog-cat-full-dataset/zip/refs/heads/master\n",
            "Resolving codeload.github.com (codeload.github.com)... 13.112.159.149\n",
            "Connecting to codeload.github.com (codeload.github.com)|13.112.159.149|:443... connected.\n",
            "HTTP request sent, awaiting response... 200 OK\n",
            "Length: unspecified [application/zip]\n",
            "Saving to: ‘/tmp/cats-and-dogs.zip’\n",
            "\n",
            "/tmp/cats-and-dogs.     [      <=>           ] 545.70M  12.2MB/s    in 31s     \n",
            "\n",
            "2021-09-07 10:11:14 (17.6 MB/s) - ‘/tmp/cats-and-dogs.zip’ saved [572212372]\n",
            "\n"
          ]
        }
      ]
    },
    {
      "cell_type": "code",
      "metadata": {
        "colab": {
          "base_uri": "https://localhost:8080/"
        },
        "id": "WxQlkTlum9SJ",
        "outputId": "0592e302-41b7-4cb7-a959-2d8ff223c6ef"
      },
      "source": [
        "os.listdir('/tmp/dog-cat-full-dataset-master/data/')"
      ],
      "execution_count": 9,
      "outputs": [
        {
          "output_type": "execute_result",
          "data": {
            "text/plain": [
              "['test', 'train']"
            ]
          },
          "metadata": {},
          "execution_count": 9
        }
      ]
    },
    {
      "cell_type": "code",
      "metadata": {
        "colab": {
          "base_uri": "https://localhost:8080/"
        },
        "id": "_Y2rvPdkwKgJ",
        "outputId": "8f11e4d8-f9dd-42c7-ccdc-914cdedd7cea"
      },
      "source": [
        "print('Test set dogs' , len(os.listdir('/tmp/dog-cat-full-dataset-master/data/test/dogs')))\n",
        "print('Test set cats' , len(os.listdir('/tmp/dog-cat-full-dataset-master/data/test/cats')))\n",
        "print('Train set dogs' , len(os.listdir('/tmp/dog-cat-full-dataset-master/data/train/dogs')))\n",
        "print('Train set cats' , len(os.listdir('/tmp/dog-cat-full-dataset-master/data/train/cats')))"
      ],
      "execution_count": 10,
      "outputs": [
        {
          "output_type": "stream",
          "name": "stdout",
          "text": [
            "Test set dogs 2500\n",
            "Test set cats 2500\n",
            "Train set dogs 10000\n",
            "Train set cats 10000\n"
          ]
        }
      ]
    },
    {
      "cell_type": "code",
      "metadata": {
        "id": "xqvYeCjdweZl"
      },
      "source": [
        ""
      ],
      "execution_count": null,
      "outputs": []
    }
  ]
}